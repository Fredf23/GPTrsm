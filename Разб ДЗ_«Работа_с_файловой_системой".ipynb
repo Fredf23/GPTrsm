{
  "nbformat": 4,
  "nbformat_minor": 0,
  "metadata": {
    "colab": {
      "provenance": [],
      "include_colab_link": true
    },
    "kernelspec": {
      "name": "python3",
      "display_name": "Python 3"
    },
    "language_info": {
      "name": "python"
    }
  },
  "cells": [
    {
      "cell_type": "markdown",
      "metadata": {
        "id": "view-in-github",
        "colab_type": "text"
      },
      "source": [
        "<a href=\"https://colab.research.google.com/github/Fredf23/GPTrsm/blob/main/%D0%A0%D0%B0%D0%B7%D0%B1%20%D0%94%D0%97_%C2%AB%D0%A0%D0%B0%D0%B1%D0%BE%D1%82%D0%B0_%D1%81_%D1%84%D0%B0%D0%B9%D0%BB%D0%BE%D0%B2%D0%BE%D0%B9_%D1%81%D0%B8%D1%81%D1%82%D0%B5%D0%BC%D0%BE%D0%B9%22.ipynb\" target=\"_parent\"><img src=\"https://colab.research.google.com/assets/colab-badge.svg\" alt=\"Open In Colab\"/></a>"
      ]
    },
    {
      "cell_type": "code",
      "execution_count": 1,
      "metadata": {
        "id": "MwlPHo3lrE5K"
      },
      "outputs": [],
      "source": [
        "import os, shutil\n",
        "from zipfile import ZipFile"
      ]
    },
    {
      "cell_type": "markdown",
      "source": [
        "## **Задания Lite**\n"
      ],
      "metadata": {
        "id": "VrKzpbuvrPoc"
      }
    },
    {
      "cell_type": "markdown",
      "source": [
        "### ***Задача 1***\n",
        "\n",
        "---\n",
        "\n",
        "\n",
        "*Создайте в директории /content/sample_data 5 папок. Внутри каждой из этих папок создайте ещё по 10 папок. Имена папок могут быть любыми.*"
      ],
      "metadata": {
        "id": "K2prIDmsrUCD"
      }
    },
    {
      "cell_type": "code",
      "source": [
        "def number_adjustment(path): # Доп функция (необязательная)\n",
        "    '''\n",
        "    Дополняет нулем число, если оно меньше 10\n",
        "    return: скорректированное имя файла\n",
        "    '''\n",
        "    # Разделяем путь на директорию и поддиректорию\n",
        "    directory, subfolder = os.path.split(path)\n",
        "    # Разделяем поддиректорию на префикс и номер\n",
        "    prefix, number = subfolder.split('_')\n",
        "    # Добавляем ноль перед номером, если он меньше 10\n",
        "    if 0 < int(number) < 10:\n",
        "        number = f'0{number}'\n",
        "    # Собираем новое имя поддиректории\n",
        "    new_subfolder = f'{prefix}_{number}'\n",
        "    # Собираем новый путь\n",
        "    new_path = os.path.join(directory, new_subfolder)\n",
        "    return new_path"
      ],
      "metadata": {
        "id": "ok1kiutB0Lok"
      },
      "execution_count": 2,
      "outputs": []
    },
    {
      "cell_type": "code",
      "source": [
        "# Создаем 5 папок внутри /content/sample_data\n",
        "for i in range(1, 6):\n",
        "  # Создаем папку с этим именем\n",
        "  folder_name = f\"folder_{i}\"\n",
        "  folder_path = os.path.join(\"/content/sample_data\", folder_name)\n",
        "  os.makedirs(folder_path, exist_ok=True)\n",
        "  # Создаем 10 папок внутри каждой из 5 папок\n",
        "  for j in range(1, 11):\n",
        "    subfolder_name = f\"subfolder_{j}\"\n",
        "    subfolder_path = os.path.join(folder_path, subfolder_name)\n",
        "    corrected_path = number_adjustment(subfolder_path)\n",
        "    os.makedirs(corrected_path, exist_ok=True)"
      ],
      "metadata": {
        "id": "1CwZBCzq1clI"
      },
      "execution_count": null,
      "outputs": []
    },
    {
      "cell_type": "markdown",
      "source": [
        "### ***Задача 2***\n",
        "\n",
        "---\n",
        "\n",
        "\n",
        "*Выведите список всех файлов и папок директории /content/sample_data. Удалите из директории  /content/sample_data 2 из 5 созданных в предыдущей задаче папки.*"
      ],
      "metadata": {
        "id": "g5roxwms2N3C"
      }
    },
    {
      "cell_type": "code",
      "source": [
        "path = '/content/sample_data'\n",
        "\n",
        "lst = os.listdir(path)\n",
        "lst = sorted(lst, key=lambda x: x.split('_')[-1])\n",
        "lst"
      ],
      "metadata": {
        "colab": {
          "base_uri": "https://localhost:8080/",
          "height": 0
        },
        "id": "6F80RbKq2PnE",
        "outputId": "2325c7b1-f603-4a7d-f500-c1a5a0d16e5b"
      },
      "execution_count": 3,
      "outputs": [
        {
          "output_type": "execute_result",
          "data": {
            "text/plain": [
              "['README.md',\n",
              " 'anscombe.json',\n",
              " 'mnist_train_small.csv',\n",
              " 'california_housing_test.csv',\n",
              " 'mnist_test.csv',\n",
              " 'california_housing_train.csv']"
            ]
          },
          "metadata": {},
          "execution_count": 3
        }
      ]
    },
    {
      "cell_type": "code",
      "source": [
        "# формируем полный путь к содержимому папки.\n",
        "lst_path = [os.path.join(path, i) for i in lst]\n",
        "\n",
        "# оставим лишь наши папки.\n",
        "new_lst =[p for p in lst_path if os.path.isdir(p)]\n",
        "new_lst"
      ],
      "metadata": {
        "colab": {
          "base_uri": "https://localhost:8080/",
          "height": 0
        },
        "id": "Kgpf84iW3Gw_",
        "outputId": "c8a88de1-d67b-4fdc-fd88-34a93caffff6"
      },
      "execution_count": 4,
      "outputs": [
        {
          "output_type": "execute_result",
          "data": {
            "text/plain": [
              "[]"
            ]
          },
          "metadata": {},
          "execution_count": 4
        }
      ]
    },
    {
      "cell_type": "code",
      "source": [
        "# Удаляем 2 из 5 созданных в предыдущей задаче папки.\n",
        "for p in new_lst[-2:]:\n",
        "    shutil.rmtree(p)"
      ],
      "metadata": {
        "id": "oVw_72b14VBS"
      },
      "execution_count": 5,
      "outputs": []
    },
    {
      "cell_type": "markdown",
      "source": [
        "### ***Задача 3***\n",
        "\n",
        "---\n",
        "\n",
        "\n",
        "*Создайте в директории /content/sample_data 5 текстовых файлов. В каждый текстовый файл добавьте строку “Привет мир!”.*"
      ],
      "metadata": {
        "id": "fTE_rBg66CZi"
      }
    },
    {
      "cell_type": "code",
      "source": [
        "for i in range(1,6):\n",
        "    with open(f'/content/sample_data/file_{i}.txt', 'w') as f:\n",
        "        f.write('Привет мир!')"
      ],
      "metadata": {
        "id": "1Ij7zejo6HnQ"
      },
      "execution_count": 6,
      "outputs": []
    },
    {
      "cell_type": "markdown",
      "source": [
        "### ***Задача 4***\n",
        "\n",
        "---\n",
        "\n",
        "\n",
        "*Скопируйте созданные файлы в одну из созданных в первой задаче папок. Переименуйте скопированные текстовые файлы. Имена файлов могут быть любыми.*\n"
      ],
      "metadata": {
        "id": "U1NX5XFj7BsA"
      }
    },
    {
      "cell_type": "code",
      "source": [
        "# Копируем в folder_3\n",
        "for i in range(1,6):\n",
        "    shutil.copy(f'/content/sample_data/file_{i}.txt', f'/content/sample_data/folder_3/file_{i}.txt')"
      ],
      "metadata": {
        "id": "KqvYRYb77Guo",
        "colab": {
          "base_uri": "https://localhost:8080/",
          "height": 355
        },
        "outputId": "dbf39e85-8da6-4f5d-b3a4-23666ff5cd0e"
      },
      "execution_count": 7,
      "outputs": [
        {
          "output_type": "error",
          "ename": "FileNotFoundError",
          "evalue": "ignored",
          "traceback": [
            "\u001b[0;31m---------------------------------------------------------------------------\u001b[0m",
            "\u001b[0;31mFileNotFoundError\u001b[0m                         Traceback (most recent call last)",
            "\u001b[0;32m<ipython-input-7-36c36a65057b>\u001b[0m in \u001b[0;36m<cell line: 2>\u001b[0;34m()\u001b[0m\n\u001b[1;32m      1\u001b[0m \u001b[0;31m# Копируем в folder_3\u001b[0m\u001b[0;34m\u001b[0m\u001b[0;34m\u001b[0m\u001b[0m\n\u001b[1;32m      2\u001b[0m \u001b[0;32mfor\u001b[0m \u001b[0mi\u001b[0m \u001b[0;32min\u001b[0m \u001b[0mrange\u001b[0m\u001b[0;34m(\u001b[0m\u001b[0;36m1\u001b[0m\u001b[0;34m,\u001b[0m\u001b[0;36m6\u001b[0m\u001b[0;34m)\u001b[0m\u001b[0;34m:\u001b[0m\u001b[0;34m\u001b[0m\u001b[0;34m\u001b[0m\u001b[0m\n\u001b[0;32m----> 3\u001b[0;31m     \u001b[0mshutil\u001b[0m\u001b[0;34m.\u001b[0m\u001b[0mcopy\u001b[0m\u001b[0;34m(\u001b[0m\u001b[0;34mf'/content/sample_data/file_{i}.txt'\u001b[0m\u001b[0;34m,\u001b[0m \u001b[0;34mf'/content/sample_data/folder_3/file_{i}.txt'\u001b[0m\u001b[0;34m)\u001b[0m\u001b[0;34m\u001b[0m\u001b[0;34m\u001b[0m\u001b[0m\n\u001b[0m",
            "\u001b[0;32m/usr/lib/python3.10/shutil.py\u001b[0m in \u001b[0;36mcopy\u001b[0;34m(src, dst, follow_symlinks)\u001b[0m\n\u001b[1;32m    415\u001b[0m     \u001b[0;32mif\u001b[0m \u001b[0mos\u001b[0m\u001b[0;34m.\u001b[0m\u001b[0mpath\u001b[0m\u001b[0;34m.\u001b[0m\u001b[0misdir\u001b[0m\u001b[0;34m(\u001b[0m\u001b[0mdst\u001b[0m\u001b[0;34m)\u001b[0m\u001b[0;34m:\u001b[0m\u001b[0;34m\u001b[0m\u001b[0;34m\u001b[0m\u001b[0m\n\u001b[1;32m    416\u001b[0m         \u001b[0mdst\u001b[0m \u001b[0;34m=\u001b[0m \u001b[0mos\u001b[0m\u001b[0;34m.\u001b[0m\u001b[0mpath\u001b[0m\u001b[0;34m.\u001b[0m\u001b[0mjoin\u001b[0m\u001b[0;34m(\u001b[0m\u001b[0mdst\u001b[0m\u001b[0;34m,\u001b[0m \u001b[0mos\u001b[0m\u001b[0;34m.\u001b[0m\u001b[0mpath\u001b[0m\u001b[0;34m.\u001b[0m\u001b[0mbasename\u001b[0m\u001b[0;34m(\u001b[0m\u001b[0msrc\u001b[0m\u001b[0;34m)\u001b[0m\u001b[0;34m)\u001b[0m\u001b[0;34m\u001b[0m\u001b[0;34m\u001b[0m\u001b[0m\n\u001b[0;32m--> 417\u001b[0;31m     \u001b[0mcopyfile\u001b[0m\u001b[0;34m(\u001b[0m\u001b[0msrc\u001b[0m\u001b[0;34m,\u001b[0m \u001b[0mdst\u001b[0m\u001b[0;34m,\u001b[0m \u001b[0mfollow_symlinks\u001b[0m\u001b[0;34m=\u001b[0m\u001b[0mfollow_symlinks\u001b[0m\u001b[0;34m)\u001b[0m\u001b[0;34m\u001b[0m\u001b[0;34m\u001b[0m\u001b[0m\n\u001b[0m\u001b[1;32m    418\u001b[0m     \u001b[0mcopymode\u001b[0m\u001b[0;34m(\u001b[0m\u001b[0msrc\u001b[0m\u001b[0;34m,\u001b[0m \u001b[0mdst\u001b[0m\u001b[0;34m,\u001b[0m \u001b[0mfollow_symlinks\u001b[0m\u001b[0;34m=\u001b[0m\u001b[0mfollow_symlinks\u001b[0m\u001b[0;34m)\u001b[0m\u001b[0;34m\u001b[0m\u001b[0;34m\u001b[0m\u001b[0m\n\u001b[1;32m    419\u001b[0m     \u001b[0;32mreturn\u001b[0m \u001b[0mdst\u001b[0m\u001b[0;34m\u001b[0m\u001b[0;34m\u001b[0m\u001b[0m\n",
            "\u001b[0;32m/usr/lib/python3.10/shutil.py\u001b[0m in \u001b[0;36mcopyfile\u001b[0;34m(src, dst, follow_symlinks)\u001b[0m\n\u001b[1;32m    254\u001b[0m         \u001b[0;32mwith\u001b[0m \u001b[0mopen\u001b[0m\u001b[0;34m(\u001b[0m\u001b[0msrc\u001b[0m\u001b[0;34m,\u001b[0m \u001b[0;34m'rb'\u001b[0m\u001b[0;34m)\u001b[0m \u001b[0;32mas\u001b[0m \u001b[0mfsrc\u001b[0m\u001b[0;34m:\u001b[0m\u001b[0;34m\u001b[0m\u001b[0;34m\u001b[0m\u001b[0m\n\u001b[1;32m    255\u001b[0m             \u001b[0;32mtry\u001b[0m\u001b[0;34m:\u001b[0m\u001b[0;34m\u001b[0m\u001b[0;34m\u001b[0m\u001b[0m\n\u001b[0;32m--> 256\u001b[0;31m                 \u001b[0;32mwith\u001b[0m \u001b[0mopen\u001b[0m\u001b[0;34m(\u001b[0m\u001b[0mdst\u001b[0m\u001b[0;34m,\u001b[0m \u001b[0;34m'wb'\u001b[0m\u001b[0;34m)\u001b[0m \u001b[0;32mas\u001b[0m \u001b[0mfdst\u001b[0m\u001b[0;34m:\u001b[0m\u001b[0;34m\u001b[0m\u001b[0;34m\u001b[0m\u001b[0m\n\u001b[0m\u001b[1;32m    257\u001b[0m                     \u001b[0;31m# macOS\u001b[0m\u001b[0;34m\u001b[0m\u001b[0;34m\u001b[0m\u001b[0m\n\u001b[1;32m    258\u001b[0m                     \u001b[0;32mif\u001b[0m \u001b[0m_HAS_FCOPYFILE\u001b[0m\u001b[0;34m:\u001b[0m\u001b[0;34m\u001b[0m\u001b[0;34m\u001b[0m\u001b[0m\n",
            "\u001b[0;31mFileNotFoundError\u001b[0m: [Errno 2] No such file or directory: '/content/sample_data/folder_3/file_1.txt'"
          ]
        }
      ]
    },
    {
      "cell_type": "code",
      "source": [
        "# Переименуем в \"TOP_SECRET.txt\"\n",
        "for i in range(1,6):\n",
        "    os.rename(f'/content/sample_data/folder_3/file_{i}.txt', f'/content/sample_data/folder_3/{i}_TOP_SECRET!!!.txt')"
      ],
      "metadata": {
        "id": "OTgcwkg28heJ",
        "colab": {
          "base_uri": "https://localhost:8080/",
          "height": 210
        },
        "outputId": "d8b656d1-ca42-459c-87d9-954e455caa04"
      },
      "execution_count": 8,
      "outputs": [
        {
          "output_type": "error",
          "ename": "FileNotFoundError",
          "evalue": "ignored",
          "traceback": [
            "\u001b[0;31m---------------------------------------------------------------------------\u001b[0m",
            "\u001b[0;31mFileNotFoundError\u001b[0m                         Traceback (most recent call last)",
            "\u001b[0;32m<ipython-input-8-18f73ff7fa3b>\u001b[0m in \u001b[0;36m<cell line: 2>\u001b[0;34m()\u001b[0m\n\u001b[1;32m      1\u001b[0m \u001b[0;31m# Переименуем в \"TOP_SECRET.txt\"\u001b[0m\u001b[0;34m\u001b[0m\u001b[0;34m\u001b[0m\u001b[0m\n\u001b[1;32m      2\u001b[0m \u001b[0;32mfor\u001b[0m \u001b[0mi\u001b[0m \u001b[0;32min\u001b[0m \u001b[0mrange\u001b[0m\u001b[0;34m(\u001b[0m\u001b[0;36m1\u001b[0m\u001b[0;34m,\u001b[0m\u001b[0;36m6\u001b[0m\u001b[0;34m)\u001b[0m\u001b[0;34m:\u001b[0m\u001b[0;34m\u001b[0m\u001b[0;34m\u001b[0m\u001b[0m\n\u001b[0;32m----> 3\u001b[0;31m     \u001b[0mos\u001b[0m\u001b[0;34m.\u001b[0m\u001b[0mrename\u001b[0m\u001b[0;34m(\u001b[0m\u001b[0;34mf'/content/sample_data/folder_3/file_{i}.txt'\u001b[0m\u001b[0;34m,\u001b[0m \u001b[0;34mf'/content/sample_data/folder_3/{i}_TOP_SECRET!!!.txt'\u001b[0m\u001b[0;34m)\u001b[0m\u001b[0;34m\u001b[0m\u001b[0;34m\u001b[0m\u001b[0m\n\u001b[0m",
            "\u001b[0;31mFileNotFoundError\u001b[0m: [Errno 2] No such file or directory: '/content/sample_data/folder_3/file_1.txt' -> '/content/sample_data/folder_3/1_TOP_SECRET!!!.txt'"
          ]
        }
      ]
    },
    {
      "cell_type": "markdown",
      "source": [
        "### ***Задача 5***\n",
        "\n",
        "---\n",
        "\n",
        "\n",
        "*Архивируйте все созданные вами файлы и папки в архив my_zip.zip в директории /content/sample_data.*\n",
        "\n",
        "---\n",
        "\n"
      ],
      "metadata": {
        "id": "1Ry457ly9QLu"
      }
    },
    {
      "cell_type": "markdown",
      "source": [
        "> *По какой логике мы будем находить наши файлы и папки...*"
      ],
      "metadata": {
        "id": "Bqcuof4-jJDp"
      }
    },
    {
      "cell_type": "markdown",
      "source": [
        "#### Вариант 1"
      ],
      "metadata": {
        "id": "A1zcSU6sVGZP"
      }
    },
    {
      "cell_type": "code",
      "source": [
        "# Перейдем в папку sample_data\n",
        "os.chdir('/content/sample_data')"
      ],
      "metadata": {
        "id": "DpcsNc8bj4iH"
      },
      "execution_count": 9,
      "outputs": []
    },
    {
      "cell_type": "code",
      "source": [
        "path = '/content/sample_data'\n",
        "\n",
        "for i in os.listdir(path):\n",
        "\n",
        "    # Находим все наши файлы\n",
        "    if os.path.isfile(i):\n",
        "        if i.startswith('file'): # файл начинается с 'file ...'\n",
        "            print('-'*20)\n",
        "            print('ФАЙЛ   ', i)\n",
        "            print('-'*20)\n",
        "\n",
        "    # Находи наши папки и проходимся по ним рекурсивно\n",
        "    elif os.path.isdir(i):\n",
        "        print('ПАПКА    ', i)\n",
        "        for f in os.listdir(i): # смотрим что лежит в каждой папке.\n",
        "            print(os.path.join(i,f))\n",
        "        print()\n",
        "    else:\n",
        "        print('Пусто')"
      ],
      "metadata": {
        "colab": {
          "base_uri": "https://localhost:8080/",
          "height": 0
        },
        "id": "HiqyDukAeIWH",
        "outputId": "c99f4b09-de3e-4ee2-a4e5-f4bc725fb1ad"
      },
      "execution_count": 10,
      "outputs": [
        {
          "output_type": "stream",
          "name": "stdout",
          "text": [
            "--------------------\n",
            "ФАЙЛ    file_1.txt\n",
            "--------------------\n",
            "--------------------\n",
            "ФАЙЛ    file_5.txt\n",
            "--------------------\n",
            "--------------------\n",
            "ФАЙЛ    file_2.txt\n",
            "--------------------\n",
            "--------------------\n",
            "ФАЙЛ    file_4.txt\n",
            "--------------------\n",
            "--------------------\n",
            "ФАЙЛ    file_3.txt\n",
            "--------------------\n"
          ]
        }
      ]
    },
    {
      "cell_type": "markdown",
      "source": [
        "> *Теперь создадим архив...*\n",
        "\n",
        "---\n",
        "\n"
      ],
      "metadata": {
        "id": "PE24NHgyjXBK"
      }
    },
    {
      "cell_type": "code",
      "source": [
        "path = '/content/sample_data'\n",
        "\n",
        "for i in os.listdir(path):\n",
        "\n",
        "    # Находим все наши файлы\n",
        "    if os.path.isfile(i):\n",
        "        if i.startswith('file'): # файл начинается с 'file ...'\n",
        "            with ZipFile(\"/content/MyZip.zip\", \"a\") as myzip:\n",
        "                myzip.write(i)\n",
        "\n",
        "\n",
        "    elif os.path.isdir(i):\n",
        "        with ZipFile(\"/content/MyZip.zip\", \"a\") as myzip:\n",
        "            myzip.write(i)\n",
        "        for f in os.listdir(i): # смотрим что лежит в каждой папке.\n",
        "            with ZipFile(\"/content/MyZip.zip\", \"a\") as myzip:\n",
        "                myzip.write(os.path.join(i,f)) # объединяет пути: os.path.join(путь1, путь2)\n",
        "\n",
        "print('Готово')"
      ],
      "metadata": {
        "colab": {
          "base_uri": "https://localhost:8080/",
          "height": 0
        },
        "id": "5GXDfbydcTjL",
        "outputId": "d9461833-95ee-47bf-8a3a-3e07fa3992ae"
      },
      "execution_count": 11,
      "outputs": [
        {
          "output_type": "stream",
          "name": "stdout",
          "text": [
            "Готово\n"
          ]
        }
      ]
    },
    {
      "cell_type": "markdown",
      "source": [
        "#### Можем проверить архив"
      ],
      "metadata": {
        "id": "8bOQ5iHbFTnR"
      }
    },
    {
      "cell_type": "code",
      "source": [
        "with ZipFile(\"/content/MyZip.zip\", \"r\") as myzip:\n",
        "    myzip.extractall(path='/content/MyZip_DIR', # путь, куда извлечь файлы\n",
        "                     members=None,       # список названий файлов, которые нужно извлечь из архива\n",
        "                     pwd=None)           # пароль, если архив таковой имеет"
      ],
      "metadata": {
        "id": "XTQNpMVFFYUv"
      },
      "execution_count": 12,
      "outputs": []
    },
    {
      "cell_type": "markdown",
      "source": [
        "#### Вариант 2"
      ],
      "metadata": {
        "id": "7lhwzbhNktdO"
      }
    },
    {
      "cell_type": "markdown",
      "source": [
        "Так же мы можем проходить рекурсивно по директории с помощью `os.walk`"
      ],
      "metadata": {
        "id": "06NvU-1Ikv7h"
      }
    },
    {
      "cell_type": "markdown",
      "source": [
        "Функция os.walk() принимает в качестве аргумента путь к папке и возвращает итератор по всем файлам и подпапкам, которые находятся в этой папке и ее подпапках. Каждый элемент итератора является кортежем из трех значений: корневая папка, список подпапок и список файлов. Например, если у нас есть такая структура папок и файлов:\n",
        "\n",
        "```\n",
        "folder_1\n",
        "  - file_1.txt\n",
        "  - file_2.txt\n",
        "  - folder_2\n",
        "    - file_3.txt\n",
        "    - file_4.txt\n",
        "  - folder_3\n",
        "    - file_5.txt\n",
        "    - file_6.txt\n",
        "```\n",
        "\n",
        "То вызов os.walk(\"folder_1\") вернет такой итератор:\n",
        "\n",
        "```python\n",
        "[\n",
        "  (\"folder_1\", [\"folder_2\", \"folder_3\"], [\"file_1.txt\", \"file_2.txt\"]),\n",
        "  (\"folder_1/folder_2\", [], [\"file_3.txt\", \"file_4.txt\"]),\n",
        "  (\"folder_1/folder_3\", [], [\"file_5.txt\", \"file_6.txt\"])\n",
        "]\n",
        "```\n",
        "\n",
        "Мы можем использовать цикл for для прохода по этому итератору и получения доступа к файлам и подпапкам в каждой папке. Например:\n",
        "\n",
        "```python\n",
        "import os\n",
        "\n",
        "# Путь к папке\n",
        "path = \"folder_1\"\n",
        "\n",
        "# Проходим по всем файлам и подпапкам в папке с помощью os.walk\n",
        "for root, dirs, files in os.walk(path):\n",
        "    # Выводим корневую папку\n",
        "    print(\"Папка:\", root)\n",
        "    # Выводим список подпапок\n",
        "    print(\"Подпапки:\", dirs)\n",
        "    # Выводим список файлов\n",
        "    print(\"Файлы:\", files)\n",
        "    # Выводим пустую строку для разделения\n",
        "    print()\n",
        "```\n",
        "\n",
        "Вывод:\n",
        "\n",
        "```\n",
        "Папка: folder_1\n",
        "Подпапки: ['folder_2', 'folder_3']\n",
        "Файлы: ['file_1.txt', 'file_2.txt']\n",
        "\n",
        "Папка: folder_1/folder_2\n",
        "Подпапки: []\n",
        "Файлы: ['file_3.txt', 'file_4.txt']\n",
        "\n",
        "Папка: folder_1/folder_3\n",
        "Подпапки: []\n",
        "Файлы: ['file_5.txt', 'file_6.txt']\n",
        "```"
      ],
      "metadata": {
        "id": "juWkrYtYrkEJ"
      }
    },
    {
      "cell_type": "code",
      "source": [
        "for dirs, folders, files in os.walk('/content/sample_data'):\n",
        "    print(dirs, files) # проходимся рекурсивно по всем папкам"
      ],
      "metadata": {
        "colab": {
          "base_uri": "https://localhost:8080/",
          "height": 0
        },
        "id": "5wRQy3EPkwP9",
        "outputId": "12d9f9ce-d12f-4655-f326-c98a1a76fdae"
      },
      "execution_count": 13,
      "outputs": [
        {
          "output_type": "stream",
          "name": "stdout",
          "text": [
            "/content/sample_data ['anscombe.json', 'README.md', 'file_1.txt', 'file_5.txt', 'file_2.txt', 'file_4.txt', 'file_3.txt', 'california_housing_train.csv', 'mnist_train_small.csv', 'california_housing_test.csv', 'mnist_test.csv']\n"
          ]
        }
      ]
    },
    {
      "cell_type": "markdown",
      "source": [
        "> ***Архивируем...***"
      ],
      "metadata": {
        "id": "VXIG05JrrygI"
      }
    },
    {
      "cell_type": "code",
      "source": [
        "%%capture\n",
        "# Путь к папке\n",
        "path = \"/content/sample_data\"\n",
        "\n",
        "# Открываем zip-файл в режиме добавления\n",
        "with ZipFile(\"/content/MyZip_3.zip\", \"a\") as myzip:\n",
        "    # Проходим по всем файлам и подпапкам в папке с помощью os.walk\n",
        "    for root, dirs, files in os.walk(path):\n",
        "        # Проходим по списку файлов\n",
        "        for file in files:\n",
        "            # Получаем полный путь к файлу\n",
        "            file_path = os.path.join(root, file)\n",
        "            # Проверяем, начинается ли имя файла с \"file\"\n",
        "            if file.startswith(\"file\"):\n",
        "                # Получаем относительный путь к файлу в zip-файле\n",
        "                arcname = os.path.relpath(file_path, path)\n",
        "                # Проверяем, есть ли такое имя в zip-файле\n",
        "                if arcname not in myzip.namelist():\n",
        "                    # Добавляем файл в zip-файл с относительным путем\n",
        "                    myzip.write(file_path, arcname=arcname)\n",
        "        # Проходим по списку подпапок\n",
        "        for dir in dirs:\n",
        "            # Получаем полный путь к подпапке\n",
        "            dir_path = os.path.join(root, dir)\n",
        "            # Получаем относительный путь к подпапке в zip-файле\n",
        "            arcname = os.path.relpath(dir_path, path)\n",
        "            # Проверяем, есть ли такое имя в zip-файле\n",
        "            if arcname not in myzip.namelist():\n",
        "                # Добавляем подпапку в zip-файл с относительным путем\n",
        "                myzip.write(dir_path, arcname=arcname)\n",
        "            # Проходим по файлам в каждой подпапке\n",
        "            for subfile in os.listdir(dir_path):\n",
        "                # Получаем полный путь к файлу в подпапке\n",
        "                subfile_path = os.path.join(dir_path, subfile)\n",
        "                # Получаем относительный путь к файлу в zip-файле\n",
        "                arcname = os.path.relpath(subfile_path, path)\n",
        "                # Проверяем, есть ли такое имя в zip-файле\n",
        "                if arcname not in myzip.namelist():\n",
        "                    # Добавляем файл в zip-файл с относительным путем\n",
        "                    myzip.write(subfile_path, arcname=arcname)"
      ],
      "metadata": {
        "id": "_tWH7QL7lH6l"
      },
      "execution_count": null,
      "outputs": []
    },
    {
      "cell_type": "markdown",
      "source": [
        "Проверяем..."
      ],
      "metadata": {
        "id": "gdRXn2y-mtaf"
      }
    },
    {
      "cell_type": "code",
      "source": [
        "with ZipFile(\"/content/MyZip_2.zip\", \"r\") as myzip:\n",
        "    myzip.extractall(path='/content/MyZip_DIR_2', # путь, куда извлечь файлы\n",
        "                     members=None,       # список названий файлов, которые нужно извлечь из архива\n",
        "                     pwd=None)           # пароль, если архив таковой имеет"
      ],
      "metadata": {
        "id": "rkIymWFwmruh"
      },
      "execution_count": null,
      "outputs": []
    },
    {
      "cell_type": "markdown",
      "source": [
        "## **Задания Pro**"
      ],
      "metadata": {
        "id": "p8U8D4emr8aM"
      }
    },
    {
      "cell_type": "markdown",
      "source": [
        "### ***Задача 1***\n",
        "\n",
        "---\n",
        "\n",
        "\n",
        "Напишите функцию, которая на вход принимает путь к текстовому файлу и текст, который нужно добавить в этот файл в конце имеющихся там данных.\n",
        "*Курсив*"
      ],
      "metadata": {
        "id": "OSWSAoKzsAuO"
      }
    },
    {
      "cell_type": "code",
      "source": [
        "def append_to_file(file_path, text):\n",
        "  # Открываем файл в режиме дозаписи\n",
        "  with open(file_path, \"a\") as f:\n",
        "    # Добавляем текст в конец файла\n",
        "    f.write(text)"
      ],
      "metadata": {
        "id": "qHfsWjeWsJEo"
      },
      "execution_count": null,
      "outputs": []
    },
    {
      "cell_type": "markdown",
      "source": [
        "> *У нас есть файлик*\n",
        "\n",
        "---\n",
        "\n"
      ],
      "metadata": {
        "id": "qK5fn2LQsoUQ"
      }
    },
    {
      "cell_type": "code",
      "source": [
        "path = '/content/sample_data/file_1.txt'\n",
        "\n",
        "%cat /content/sample_data/file_1.txt"
      ],
      "metadata": {
        "colab": {
          "base_uri": "https://localhost:8080/",
          "height": 0
        },
        "id": "-elyC2NksgvB",
        "outputId": "e9f6b67c-2b81-4154-825a-389493be9000"
      },
      "execution_count": 14,
      "outputs": [
        {
          "output_type": "stream",
          "name": "stdout",
          "text": [
            "Привет мир!"
          ]
        }
      ]
    },
    {
      "cell_type": "markdown",
      "source": [
        "> *Добавим в конце новый текст*\n",
        "\n",
        "---\n",
        "\n"
      ],
      "metadata": {
        "id": "qjiBuvmatKSy"
      }
    },
    {
      "cell_type": "code",
      "source": [
        "text = 'Всем продуктивной недели!'\n",
        "\n",
        "append_to_file(path, text)"
      ],
      "metadata": {
        "id": "0UOEjqVbssXM",
        "colab": {
          "base_uri": "https://localhost:8080/",
          "height": 210
        },
        "outputId": "a09b6516-827a-4fcb-edd1-a852a9041eda"
      },
      "execution_count": 16,
      "outputs": [
        {
          "output_type": "error",
          "ename": "NameError",
          "evalue": "ignored",
          "traceback": [
            "\u001b[0;31m---------------------------------------------------------------------------\u001b[0m",
            "\u001b[0;31mNameError\u001b[0m                                 Traceback (most recent call last)",
            "\u001b[0;32m<ipython-input-16-4e70245e550b>\u001b[0m in \u001b[0;36m<cell line: 3>\u001b[0;34m()\u001b[0m\n\u001b[1;32m      1\u001b[0m \u001b[0mtext\u001b[0m \u001b[0;34m=\u001b[0m \u001b[0;34m'Всем продуктивной недели!'\u001b[0m\u001b[0;34m\u001b[0m\u001b[0;34m\u001b[0m\u001b[0m\n\u001b[1;32m      2\u001b[0m \u001b[0;34m\u001b[0m\u001b[0m\n\u001b[0;32m----> 3\u001b[0;31m \u001b[0mappend_to_file\u001b[0m\u001b[0;34m(\u001b[0m\u001b[0mpath\u001b[0m\u001b[0;34m,\u001b[0m \u001b[0mtext\u001b[0m\u001b[0;34m)\u001b[0m\u001b[0;34m\u001b[0m\u001b[0;34m\u001b[0m\u001b[0m\n\u001b[0m",
            "\u001b[0;31mNameError\u001b[0m: name 'append_to_file' is not defined"
          ]
        }
      ]
    },
    {
      "cell_type": "code",
      "source": [
        "%cat /content/sample_data/file_1.txt"
      ],
      "metadata": {
        "colab": {
          "base_uri": "https://localhost:8080/"
        },
        "id": "8Er5jPn2tBUr",
        "outputId": "7f5609fa-b67c-4c2a-f37a-b00a99910cbe"
      },
      "execution_count": null,
      "outputs": [
        {
          "output_type": "stream",
          "name": "stdout",
          "text": [
            "Привет мир!Всем продуктивной недели!"
          ]
        }
      ]
    },
    {
      "cell_type": "markdown",
      "source": [
        "### ***Задача 2***\n",
        "\n",
        "---\n",
        "\n",
        "\n",
        "*Переместите все файлы формата .csv из директории /content/sample_data в новую /content/sample_data/all_csv*"
      ],
      "metadata": {
        "id": "tZUxtnqctV1K"
      }
    },
    {
      "cell_type": "markdown",
      "source": [
        "> Вариант 1"
      ],
      "metadata": {
        "id": "hh4X21F-xXLA"
      }
    },
    {
      "cell_type": "code",
      "source": [
        "# Создаем новую директорию, если она не существует\n",
        "os.makedirs(\"/content/sample_data/all_csv\", exist_ok=True)\n",
        "\n",
        "# Получаем список файлов в исходной директории\n",
        "files = os.listdir(\"/content/sample_data\")\n",
        "\n",
        "# Перебираем файлы и проверяем их расширение\n",
        "for file in files:\n",
        "  if file.endswith(\".csv\"):\n",
        "    # Формируем полные пути к файлам\n",
        "    src = os.path.join(\"/content/sample_data\", file)\n",
        "    dst = os.path.join(\"/content/sample_data/all_csv\", file)\n",
        "    # Перемещаем файл в новую директорию\n",
        "    shutil.move(src, dst)"
      ],
      "metadata": {
        "id": "jO2f0qKvtycv"
      },
      "execution_count": null,
      "outputs": []
    },
    {
      "cell_type": "markdown",
      "source": [
        "> 2 Вариант"
      ],
      "metadata": {
        "id": "eju0ts9Jt_z0"
      }
    },
    {
      "cell_type": "code",
      "source": [
        "from glob import glob"
      ],
      "metadata": {
        "id": "4xnTbRlRuiae"
      },
      "execution_count": 17,
      "outputs": []
    },
    {
      "cell_type": "code",
      "source": [
        "# Убедимся, что мы в нужной нам директории\n",
        "os.chdir('/content/sample_data')\n",
        "os.getcwd()"
      ],
      "metadata": {
        "colab": {
          "base_uri": "https://localhost:8080/",
          "height": 35
        },
        "id": "rsaeeE0Wur-5",
        "outputId": "b7eb35be-d32e-4972-a27a-f9a9dcb403b1"
      },
      "execution_count": null,
      "outputs": [
        {
          "output_type": "execute_result",
          "data": {
            "text/plain": [
              "'/content/sample_data'"
            ],
            "application/vnd.google.colaboratory.intrinsic+json": {
              "type": "string"
            }
          },
          "metadata": {},
          "execution_count": 3
        }
      ]
    },
    {
      "cell_type": "code",
      "source": [
        "# Отберём все файлы «.csv»\n",
        "files = glob('*.csv')\n",
        "files"
      ],
      "metadata": {
        "colab": {
          "base_uri": "https://localhost:8080/",
          "height": 0
        },
        "id": "JKGYD5-2u1of",
        "outputId": "6f6b3b28-b090-4a46-f36f-6e6f20d9adfb"
      },
      "execution_count": 18,
      "outputs": [
        {
          "output_type": "execute_result",
          "data": {
            "text/plain": [
              "['california_housing_train.csv',\n",
              " 'mnist_train_small.csv',\n",
              " 'california_housing_test.csv',\n",
              " 'mnist_test.csv']"
            ]
          },
          "metadata": {},
          "execution_count": 18
        }
      ]
    },
    {
      "cell_type": "code",
      "source": [
        "new_path = \"/content/sample_data/all_csv\"\n",
        "path = \"/content/sample_data\"\n",
        "\n",
        "# Создаем новую директорию, если она не существует\n",
        "os.makedirs(new_path, exist_ok=True)\n",
        "\n",
        "# Перебираем файлы и проверяем их расширение\n",
        "for file_ in files:\n",
        "    # Формируем полные пути к файлам\n",
        "    src = os.path.join(path, file_)\n",
        "    dst = os.path.join(new_path, file_)\n",
        "    # Перемещаем файл в новую директорию\n",
        "    shutil.move(src, dst)"
      ],
      "metadata": {
        "id": "OQEf5dKbuBpd"
      },
      "execution_count": 19,
      "outputs": []
    },
    {
      "cell_type": "markdown",
      "source": [
        "### ***Задача 3***\n",
        "\n",
        "---\n",
        "\n",
        "\n",
        "*Добавьте в директорию /content/sample_data/all_csv 20 новых текстовых файлов. В каждый второй файл добавьте строки [‘Заголовок\\n’, ‘Основной текст\\n’, ‘Заключение\\n’].*"
      ],
      "metadata": {
        "id": "SvYlUibox9Vk"
      }
    },
    {
      "cell_type": "code",
      "source": [
        "os.listdir('all_csv')"
      ],
      "metadata": {
        "id": "XchoBQsbyAnh",
        "colab": {
          "base_uri": "https://localhost:8080/",
          "height": 0
        },
        "outputId": "efb3ea5d-6cb6-4351-fd3a-b4db61cfc581"
      },
      "execution_count": 20,
      "outputs": [
        {
          "output_type": "execute_result",
          "data": {
            "text/plain": [
              "['california_housing_train.csv',\n",
              " 'mnist_train_small.csv',\n",
              " 'california_housing_test.csv',\n",
              " 'mnist_test.csv']"
            ]
          },
          "metadata": {},
          "execution_count": 20
        }
      ]
    },
    {
      "cell_type": "code",
      "source": [
        "def number_adjustment2(number): # Доп функция (необязательная)\n",
        "    '''\n",
        "    Дополняет нулем число, если оно меньше 10\n",
        "    return: скорректированное имя файла\n",
        "    '''\n",
        "    if 0 < number < 10:\n",
        "        return f'NewFile_0{i}'\n",
        "    else:\n",
        "        return f'NewFile_{i}'"
      ],
      "metadata": {
        "id": "lgTx4B4tJC0d"
      },
      "execution_count": 21,
      "outputs": []
    },
    {
      "cell_type": "code",
      "source": [
        "directory = \"/content/sample_data/all_csv\"\n",
        "text = \"Заголовок\\nОсновной текст\\nЗаключение\\n\"\n",
        "\n",
        "for i in range(1, 21):\n",
        "    new_file = number_adjustment2(i)\n",
        "    filename = os.path.join(directory, f\"{new_file}.txt\")\n",
        "    with open(filename, 'w') as file:\n",
        "        if i % 2 == 0:\n",
        "            file.write(text)"
      ],
      "metadata": {
        "id": "_YrxOzGoIWxb"
      },
      "execution_count": 22,
      "outputs": []
    },
    {
      "cell_type": "markdown",
      "source": [
        "### ***Задача 4***\n",
        "---\n",
        "\n",
        "\n",
        "*Напишите функцию, которая на вход принимает путь к какой-либо директории, а на выходе мы должны получить количество папок в выбранной директории и количество файлов (отдельно).*\n"
      ],
      "metadata": {
        "id": "yfVFEhnBMIwm"
      }
    },
    {
      "cell_type": "code",
      "source": [
        "def count_folders_files(directory):\n",
        "    \"\"\"\n",
        "    Функция для подсчета количества папок и файлов в указанной директории.\n",
        "\n",
        "    Аргументы:\n",
        "    directory (str): Путь к директории.\n",
        "\n",
        "    Печатает:\n",
        "    Кол-во папок\n",
        "    Кол-во файлов\n",
        "    \"\"\"\n",
        "    folders_count = 0\n",
        "    files_count = 0\n",
        "\n",
        "    for item in os.listdir(directory):\n",
        "        item_path = os.path.join(directory, item)\n",
        "        if os.path.isdir(item_path):\n",
        "            folders_count += 1\n",
        "        elif os.path.isfile(item_path):\n",
        "            files_count += 1\n",
        "\n",
        "    print(f\"{'Количество папок:':<20}{folders_count}\\n{'Количество файлов:':<20}{files_count}\")\n",
        "\n",
        "\n",
        "count_folders_files('/etc')"
      ],
      "metadata": {
        "colab": {
          "base_uri": "https://localhost:8080/"
        },
        "id": "xT9QpK1TMc7Z",
        "outputId": "f9b9fc17-73e7-43ce-e2ff-da0688829e04"
      },
      "execution_count": null,
      "outputs": [
        {
          "output_type": "stream",
          "name": "stdout",
          "text": [
            "Количество папок:   79\n",
            "Количество файлов:  72\n"
          ]
        }
      ]
    },
    {
      "cell_type": "markdown",
      "source": [
        "### ***Задача 5***\n",
        "\n",
        "---\n",
        "\n",
        "\n",
        "*Смоделируйте ситуацию, когда открывается текстовый файл без использования with и ячейка завершает работу с ошибкой до закрытия файла f.close(), Ошибка может быть любая.*\n"
      ],
      "metadata": {
        "id": "vVxvpWwOOvc2"
      }
    },
    {
      "cell_type": "code",
      "source": [
        "f = open(\"/content/sample_data/all_csv/NewFile_02.txt\", \"r\") # открываем файл для чтения\n",
        "line = f.readline() # читаем первую строку\n",
        "print(line) # выводим строку на экран\n",
        "x = 1 / 0 # делаем намеренную ошибку деления на ноль\n",
        "f.close() # закрываем файл (эта строка не выполнится из-за ошибки)"
      ],
      "metadata": {
        "colab": {
          "base_uri": "https://localhost:8080/",
          "height": 259
        },
        "id": "TaIZXm3SPrx2",
        "outputId": "3964de1a-d726-477e-b604-bbd92e9ae2a3"
      },
      "execution_count": null,
      "outputs": [
        {
          "output_type": "stream",
          "name": "stdout",
          "text": [
            "Заголовок\n",
            "\n"
          ]
        },
        {
          "output_type": "error",
          "ename": "ZeroDivisionError",
          "evalue": "ignored",
          "traceback": [
            "\u001b[0;31m---------------------------------------------------------------------------\u001b[0m",
            "\u001b[0;31mZeroDivisionError\u001b[0m                         Traceback (most recent call last)",
            "\u001b[0;32m<ipython-input-25-eff5fe89d84b>\u001b[0m in \u001b[0;36m<cell line: 4>\u001b[0;34m()\u001b[0m\n\u001b[1;32m      2\u001b[0m \u001b[0mline\u001b[0m \u001b[0;34m=\u001b[0m \u001b[0mf\u001b[0m\u001b[0;34m.\u001b[0m\u001b[0mreadline\u001b[0m\u001b[0;34m(\u001b[0m\u001b[0;34m)\u001b[0m \u001b[0;31m# читаем первую строку\u001b[0m\u001b[0;34m\u001b[0m\u001b[0;34m\u001b[0m\u001b[0m\n\u001b[1;32m      3\u001b[0m \u001b[0mprint\u001b[0m\u001b[0;34m(\u001b[0m\u001b[0mline\u001b[0m\u001b[0;34m)\u001b[0m \u001b[0;31m# выводим строку на экран\u001b[0m\u001b[0;34m\u001b[0m\u001b[0;34m\u001b[0m\u001b[0m\n\u001b[0;32m----> 4\u001b[0;31m \u001b[0mx\u001b[0m \u001b[0;34m=\u001b[0m \u001b[0;36m1\u001b[0m \u001b[0;34m/\u001b[0m \u001b[0;36m0\u001b[0m \u001b[0;31m# делаем намеренную ошибку деления на ноль\u001b[0m\u001b[0;34m\u001b[0m\u001b[0;34m\u001b[0m\u001b[0m\n\u001b[0m\u001b[1;32m      5\u001b[0m \u001b[0mf\u001b[0m\u001b[0;34m.\u001b[0m\u001b[0mclose\u001b[0m\u001b[0;34m(\u001b[0m\u001b[0;34m)\u001b[0m \u001b[0;31m# закрываем файл (эта строка не выполнится из-за ошибки)\u001b[0m\u001b[0;34m\u001b[0m\u001b[0;34m\u001b[0m\u001b[0m\n",
            "\u001b[0;31mZeroDivisionError\u001b[0m: division by zero"
          ]
        }
      ]
    },
    {
      "cell_type": "markdown",
      "source": [
        "> *Как видим, файл не был закрыт корректно, так как программа завершилась с ошибкой до того, как добралась до строки f.close(). Это может привести к потере данных или повреждению файла. Чтобы избежать такой ситуации, лучше использовать конструкцию with, которая автоматически закрывает файл при выходе из блока кода, даже если произошла ошибка.*"
      ],
      "metadata": {
        "id": "Ch2MTGTLQA-J"
      }
    }
  ]
}